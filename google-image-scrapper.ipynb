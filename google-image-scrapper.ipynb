{
 "cells": [
  {
   "cell_type": "code",
   "execution_count": 9,
   "id": "49d0e5d3",
   "metadata": {},
   "outputs": [],
   "source": [
    "import os\n",
    "import requests as re\n",
    "from bs4 import BeautifulSoup"
   ]
  },
  {
   "cell_type": "code",
   "execution_count": 10,
   "id": "40aa0281",
   "metadata": {},
   "outputs": [],
   "source": [
    "googe_img_url_parts = [\"https://www.google.com/search?q=\",\"&source=lnms&tbm=isch&sa=X\"]\n",
    "\n",
    "user_agent = {\n",
    "\n",
    "    \"User-Agent\": \"Mozilla/5.0 (Windows NT 10.0; Win64; x64) AppleWebKit/537.36 (KHTML, like Gecko) Chrome/70.0.3538.77 Safari/537.36\"\n",
    "}"
   ]
  },
  {
   "cell_type": "code",
   "execution_count": 11,
   "id": "2f906bf8",
   "metadata": {},
   "outputs": [],
   "source": [
    "def is_int(number):\n",
    "    try:\n",
    "        int(number)\n",
    "        return True\n",
    "    except:\n",
    "        print(\"Quantity is not an integer!\")\n",
    "\n",
    "def is_float(ratios,position,numeric_ratios):\n",
    "    try:\n",
    "        numeric_ratios[position] = float(ratios[position])\n",
    "    except:\n",
    "        print(f\"Number {ratios[position]} with wrong format!\")\n",
    "        \n",
    "def ask_user():\n",
    "    is_valid = [False,False,False]\n",
    "    \n",
    "    while is_valid[0] != True:\n",
    "        subject = input('Enter the subject that you want to download a dataset: ')\n",
    "        if (subject != ''):\n",
    "            is_valid[0] = True\n",
    "        \n",
    "    while is_valid[1] != True:\n",
    "        quantity = input('Enter the number of images that you want: ')         \n",
    "        if (is_int(quantity) == True):\n",
    "            is_valid[1] = True\n",
    "        \n",
    "    while is_valid[2] != True:\n",
    "        ratio = input('Enter the ratio (sum = 1) for train,validation,test in the format like (<train>;<validation>;<test>): ')\n",
    "        ratios = ratio.split(';')\n",
    "        numeric_ratios = [0]*len(ratios)\n",
    "        if (len(ratios) != 3):\n",
    "            print('Number of ratios different of three')\n",
    "        else:\n",
    "            for i in range(len(ratios)):\n",
    "                is_float(ratios,i,numeric_ratios)\n",
    "            if (sum(numeric_ratios) != 1):\n",
    "                print('Ratios sum different of 1')\n",
    "            else:\n",
    "                is_valid[2] =  True\n",
    "            \n",
    "    return subject,quantity,ratios"
   ]
  },
  {
   "cell_type": "code",
   "execution_count": 12,
   "id": "9f04d5cc",
   "metadata": {},
   "outputs": [],
   "source": [
    "save_folder = 'dataset'\n",
    "\n",
    "def main():\n",
    "    \n",
    "    if not os.path.exists(save_folder):\n",
    "        os.mkdir(save_folder)\n",
    "    \n",
    "    subject, quantity, ratios = ask_user()\n",
    "    download_images(subject, int(quantity))\n"
   ]
  },
  {
   "cell_type": "code",
   "execution_count": 13,
   "id": "3ece26c3",
   "metadata": {},
   "outputs": [],
   "source": [
    "def download_images(subject, quantity):\n",
    "    print('searching...')\n",
    "    \n",
    "    search_url = googe_img_url_parts[0] + subject + googe_img_url_parts[1]\n",
    "    \n",
    "    response = re.get(search_url, headers = user_agent)\n",
    "    soup = BeautifulSoup(response.text, 'html.parser')\n",
    "    \n",
    "    results = soup.findAll('img',{'class':'rg_i Q4LuWd'})\n",
    "    \n",
    "    count = 0\n",
    "\n",
    "    img_links = []\n",
    "\n",
    "    for img in results:\n",
    "        try:\n",
    "            img_links.append(img['data-src'])\n",
    "            count += 1\n",
    "            if(count >= quantity):\n",
    "                break\n",
    "        except KeyError:\n",
    "            continue\n",
    "            \n",
    "    print('downloading pictures...')\n",
    "    \n",
    "    for i, link in enumerate(img_links):\n",
    "        response = re.get(link)        \n",
    "        \n",
    "        image_name = f'{subject}{str(i+1)}.jpg'\n",
    "        file_name = os.path.join(save_folder,image_name)\n",
    "        \n",
    "        with open(file_name, 'wb') as fh:\n",
    "            fh.write(response.content)"
   ]
  },
  {
   "cell_type": "code",
   "execution_count": 16,
   "id": "80e6ea0f",
   "metadata": {
    "scrolled": true
   },
   "outputs": [
    {
     "name": "stdout",
     "output_type": "stream",
     "text": [
      "Enter the subject that you want to download a dataset: gb\n",
      "Enter the number of images that you want: 10\n",
      "Enter the ratio (sum = 1) for train,validation,test in the format like (<train>;<validation>;<test>): 0;0;1\n",
      "searching...\n",
      "downloading pictures...\n"
     ]
    }
   ],
   "source": [
    "main()"
   ]
  },
  {
   "cell_type": "code",
   "execution_count": null,
   "id": "427b3e23",
   "metadata": {},
   "outputs": [],
   "source": []
  }
 ],
 "metadata": {
  "kernelspec": {
   "display_name": "Python 3 (ipykernel)",
   "language": "python",
   "name": "python3"
  },
  "language_info": {
   "codemirror_mode": {
    "name": "ipython",
    "version": 3
   },
   "file_extension": ".py",
   "mimetype": "text/x-python",
   "name": "python",
   "nbconvert_exporter": "python",
   "pygments_lexer": "ipython3",
   "version": "3.9.7"
  }
 },
 "nbformat": 4,
 "nbformat_minor": 5
}
